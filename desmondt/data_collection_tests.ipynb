{
 "cells": [
  {
   "cell_type": "code",
   "execution_count": 2,
   "outputs": [],
   "source": [
    "import time\n",
    "import matplotlib\n",
    "import matplotlib.pyplot as plt\n",
    "import random"
   ],
   "metadata": {
    "collapsed": false,
    "ExecuteTime": {
     "end_time": "2024-01-31T22:30:18.034039700Z",
     "start_time": "2024-01-31T22:30:17.942325500Z"
    }
   },
   "id": "de897bd1d397b46f"
  },
  {
   "cell_type": "code",
   "execution_count": 3,
   "outputs": [
    {
     "name": "stderr",
     "output_type": "stream",
     "text": [
      "C:\\Users\\desmo\\AppData\\Local\\Temp\\ipykernel_34300\\679657966.py:14: UserWarning: set_ticklabels() should only be used with a fixed number of ticks, i.e. after set_ticks() or using a FixedLocator.\n",
      "  ax.set_yticklabels([''])\n",
      "C:\\Users\\desmo\\AppData\\Local\\Temp\\ipykernel_34300\\679657966.py:15: UserWarning: set_ticklabels() should only be used with a fixed number of ticks, i.e. after set_ticks() or using a FixedLocator.\n",
      "  ax.set_xticklabels([''])\n"
     ]
    },
    {
     "data": {
      "text/plain": "<Figure size 640x480 with 1 Axes>",
      "image/png": "[encoded data removed]"
     },
     "metadata": {},
     "output_type": "display_data"
    }
   ],
   "source": [
    "warmup_trials = 10\n",
    "trials_per_class = 60\n",
    "perform_time = 3.5\n",
    "wait_time = 1\n",
    "pause_every = 30\n",
    "pause_duration = 10\n",
    "fontsize = 40\n",
    "labels = ['C', 'R']\n",
    "markers = ['Activated', 'Relaxed']\n",
    "\n",
    "matplotlib.rcParams.update({'font.size': fontsize})\n",
    "\n",
    "hFigure, ax = plt.subplots()\n",
    "ax.set_yticklabels([''])\n",
    "ax.set_xticklabels([''])\n",
    "t = plt.text(0.5, 0.5, '', horizontalalignment='center')\n",
    "plt.xlim(xmin=0, xmax=1)\n",
    "plt.ylim(ymin=0, ymax=1)\n",
    "plt.ion()\n",
    "plt.draw()\n",
    "plt.show()\n",
    "try:\n",
    "    for trial in range(1, warmup_trials + trials_per_class * len(labels) + 1):\n",
    "        # Check if the figure has been closed\n",
    "        #if not plt.fignum_exists(hFigure.number):\n",
    "            #break\n",
    "        # TODO: better randomness\n",
    "        choice = random.choice(range(len(labels)))\n",
    "        t.set_text(labels[choice])\n",
    "        hFigure.canvas.draw()\n",
    "        hFigure.canvas.flush_events()\n",
    "        time.sleep(perform_time)\n",
    "        t.set_text('')\n",
    "        hFigure.canvas.draw()\n",
    "        hFigure.canvas.flush_events()\n",
    "\n",
    "        if trial % pause_every == 0:\n",
    "            t.set_text('Pause')\n",
    "            hFigure.canvas.draw()\n",
    "            hFigure.canvas.flush_events()\n",
    "            t.set_text('')\n",
    "        hFigure.canvas.draw()\n",
    "        hFigure.canvas.flush_events()\n",
    "except Exception as e:\n",
    "    print(e)"
   ],
   "metadata": {
    "collapsed": false,
    "ExecuteTime": {
     "end_time": "2024-01-31T22:38:39.427215300Z",
     "start_time": "2024-01-31T22:30:36.138068100Z"
    }
   },
   "id": "df51a107e487e139"
  },
  {
   "cell_type": "code",
   "execution_count": 4,
   "outputs": [],
   "source": [
    "import mne"
   ],
   "metadata": {
    "collapsed": false,
    "ExecuteTime": {
     "end_time": "2024-01-31T22:46:45.620444600Z",
     "start_time": "2024-01-31T22:46:45.309465600Z"
    }
   },
   "id": "f3ad3ed623e3e47b"
  },
  {
   "cell_type": "code",
   "execution_count": null,
   "outputs": [],
   "source": [],
   "metadata": {
    "collapsed": false
   },
   "id": "e7e842bd55a4e95d"
  }
 ],
 "metadata": {
  "kernelspec": {
   "display_name": "Python 3",
   "language": "python",
   "name": "python3"
  },
  "language_info": {
   "codemirror_mode": {
    "name": "ipython",
    "version": 2
   },
   "file_extension": ".py",
   "mimetype": "text/x-python",
   "name": "python",
   "nbconvert_exporter": "python",
   "pygments_lexer": "ipython2",
   "version": "2.7.6"
  }
 },
 "nbformat": 4,
 "nbformat_minor": 5
}
